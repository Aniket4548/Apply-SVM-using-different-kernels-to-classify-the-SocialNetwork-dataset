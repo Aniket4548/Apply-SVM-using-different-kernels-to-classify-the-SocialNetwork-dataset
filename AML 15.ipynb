{
 "cells": [
  {
   "cell_type": "markdown",
   "id": "d7426015",
   "metadata": {},
   "source": [
    "# Practical 15"
   ]
  },
  {
   "cell_type": "markdown",
   "id": "3c3627cc",
   "metadata": {},
   "source": [
    "## Aim : Apply SVM using different kernels to classify the SocialNetwork dataset and compare results with KNN and Logistic Regression algos"
   ]
  },
  {
   "cell_type": "markdown",
   "id": "710f30f7",
   "metadata": {},
   "source": [
    "### SVM"
   ]
  },
  {
   "cell_type": "code",
   "execution_count": 1,
   "id": "5ca47ae1",
   "metadata": {},
   "outputs": [],
   "source": [
    "# import the libraries\n",
    "import numpy as np\n",
    "import pandas as pd\n",
    "import matplotlib.pyplot as plt\n",
    "import seaborn as sns\n",
    "from sklearn import svm, datasets"
   ]
  },
  {
   "cell_type": "code",
   "execution_count": 2,
   "id": "e3a2c1c3",
   "metadata": {},
   "outputs": [
    {
     "name": "stdout",
     "output_type": "stream",
     "text": [
      "     Age  EstimatedSalary  Purchased\n",
      "0     19            19000          0\n",
      "1     35            20000          0\n",
      "2     26            43000          0\n",
      "3     27            57000          0\n",
      "4     19            76000          0\n",
      "..   ...              ...        ...\n",
      "395   46            41000          1\n",
      "396   51            23000          1\n",
      "397   50            20000          1\n",
      "398   36            33000          0\n",
      "399   49            36000          1\n",
      "\n",
      "[400 rows x 3 columns]\n"
     ]
    }
   ],
   "source": [
    "# import the dataset\n",
    "df = pd.read_csv(r\"D:\\Sem 4\\AML\\Datasets\\SocialNetworkAds.csv\")\n",
    "print(df)"
   ]
  },
  {
   "cell_type": "code",
   "execution_count": 3,
   "id": "2baacdae",
   "metadata": {},
   "outputs": [
    {
     "data": {
      "text/html": [
       "<div>\n",
       "<style scoped>\n",
       "    .dataframe tbody tr th:only-of-type {\n",
       "        vertical-align: middle;\n",
       "    }\n",
       "\n",
       "    .dataframe tbody tr th {\n",
       "        vertical-align: top;\n",
       "    }\n",
       "\n",
       "    .dataframe thead th {\n",
       "        text-align: right;\n",
       "    }\n",
       "</style>\n",
       "<table border=\"1\" class=\"dataframe\">\n",
       "  <thead>\n",
       "    <tr style=\"text-align: right;\">\n",
       "      <th></th>\n",
       "      <th>Age</th>\n",
       "      <th>EstimatedSalary</th>\n",
       "      <th>Purchased</th>\n",
       "    </tr>\n",
       "  </thead>\n",
       "  <tbody>\n",
       "    <tr>\n",
       "      <th>0</th>\n",
       "      <td>False</td>\n",
       "      <td>False</td>\n",
       "      <td>False</td>\n",
       "    </tr>\n",
       "    <tr>\n",
       "      <th>1</th>\n",
       "      <td>False</td>\n",
       "      <td>False</td>\n",
       "      <td>False</td>\n",
       "    </tr>\n",
       "    <tr>\n",
       "      <th>2</th>\n",
       "      <td>False</td>\n",
       "      <td>False</td>\n",
       "      <td>False</td>\n",
       "    </tr>\n",
       "    <tr>\n",
       "      <th>3</th>\n",
       "      <td>False</td>\n",
       "      <td>False</td>\n",
       "      <td>False</td>\n",
       "    </tr>\n",
       "    <tr>\n",
       "      <th>4</th>\n",
       "      <td>False</td>\n",
       "      <td>False</td>\n",
       "      <td>False</td>\n",
       "    </tr>\n",
       "    <tr>\n",
       "      <th>...</th>\n",
       "      <td>...</td>\n",
       "      <td>...</td>\n",
       "      <td>...</td>\n",
       "    </tr>\n",
       "    <tr>\n",
       "      <th>395</th>\n",
       "      <td>False</td>\n",
       "      <td>False</td>\n",
       "      <td>False</td>\n",
       "    </tr>\n",
       "    <tr>\n",
       "      <th>396</th>\n",
       "      <td>False</td>\n",
       "      <td>False</td>\n",
       "      <td>False</td>\n",
       "    </tr>\n",
       "    <tr>\n",
       "      <th>397</th>\n",
       "      <td>False</td>\n",
       "      <td>False</td>\n",
       "      <td>False</td>\n",
       "    </tr>\n",
       "    <tr>\n",
       "      <th>398</th>\n",
       "      <td>False</td>\n",
       "      <td>False</td>\n",
       "      <td>False</td>\n",
       "    </tr>\n",
       "    <tr>\n",
       "      <th>399</th>\n",
       "      <td>False</td>\n",
       "      <td>False</td>\n",
       "      <td>False</td>\n",
       "    </tr>\n",
       "  </tbody>\n",
       "</table>\n",
       "<p>400 rows × 3 columns</p>\n",
       "</div>"
      ],
      "text/plain": [
       "       Age  EstimatedSalary  Purchased\n",
       "0    False            False      False\n",
       "1    False            False      False\n",
       "2    False            False      False\n",
       "3    False            False      False\n",
       "4    False            False      False\n",
       "..     ...              ...        ...\n",
       "395  False            False      False\n",
       "396  False            False      False\n",
       "397  False            False      False\n",
       "398  False            False      False\n",
       "399  False            False      False\n",
       "\n",
       "[400 rows x 3 columns]"
      ]
     },
     "execution_count": 3,
     "metadata": {},
     "output_type": "execute_result"
    }
   ],
   "source": [
    "df.isnull()"
   ]
  },
  {
   "cell_type": "code",
   "execution_count": 4,
   "id": "916fade8",
   "metadata": {},
   "outputs": [
    {
     "data": {
      "text/plain": [
       "Age                0\n",
       "EstimatedSalary    0\n",
       "Purchased          0\n",
       "dtype: int64"
      ]
     },
     "execution_count": 4,
     "metadata": {},
     "output_type": "execute_result"
    }
   ],
   "source": [
    "df.isnull().sum()"
   ]
  },
  {
   "cell_type": "code",
   "execution_count": 5,
   "id": "65c5e2fe",
   "metadata": {},
   "outputs": [],
   "source": [
    "x = df.iloc[:200,:-1].values\n",
    "y = df.iloc[:200,-1].values"
   ]
  },
  {
   "cell_type": "code",
   "execution_count": 6,
   "id": "fce062f6",
   "metadata": {},
   "outputs": [
    {
     "data": {
      "text/plain": [
       "(array([[    19,  19000],\n",
       "        [    35,  20000],\n",
       "        [    26,  43000],\n",
       "        [    27,  57000],\n",
       "        [    19,  76000],\n",
       "        [    27,  58000],\n",
       "        [    27,  84000],\n",
       "        [    32, 150000],\n",
       "        [    25,  33000],\n",
       "        [    35,  65000]], dtype=int64),\n",
       " array([0, 0, 0, 0, 0, 0, 0, 1, 0, 0], dtype=int64))"
      ]
     },
     "execution_count": 6,
     "metadata": {},
     "output_type": "execute_result"
    }
   ],
   "source": [
    "x[0:10],y[0:10]"
   ]
  },
  {
   "cell_type": "code",
   "execution_count": 7,
   "id": "a554b6b7",
   "metadata": {},
   "outputs": [],
   "source": [
    "# We create an onstance of SVM and fit out data\n",
    "# We do not scale our data since we want to plot the support vector\n",
    "\n",
    "# The SVC class constructor takes following parameters:\n",
    "# 1. kernels : {'linear', 'poly', 'rbf', 'sigmoid', 'precomputed'}, default = 'rbf'\n",
    "# 2. C: float, defaut = 1.0\n",
    "# 3. degree: int, default = 3\n",
    "# 4. gamma: kernet coeffecient for 'rbf', 'poly' and 'sigmoid'\n",
    "\n",
    "C = 1.0  #SVM regularization parameter\n",
    "svc1 = svm.SVC(kernel = 'linear', C=1, gamma = 0.1, random_state = 1).fit(x,y)\n",
    "svc2 = svm.SVC(kernel = 'rbf', gamma = 0.5, C = 1).fit(x,y)\n",
    "svc3 = svm.SVC(kernel = 'poly', degree = 5, C = 1).fit(x,y)"
   ]
  },
  {
   "cell_type": "code",
   "execution_count": 8,
   "id": "97470f65",
   "metadata": {},
   "outputs": [
    {
     "data": {
      "image/png": "[encoded data removed]",
      "text/plain": [
       "<Figure size 640x480 with 1 Axes>"
      ]
     },
     "metadata": {},
     "output_type": "display_data"
    }
   ],
   "source": [
    "# Use SVM linear kernel\n",
    "# Create a mesh to plot in matplotlib\n",
    "\n",
    "# Extracting min and max value from all rows of sepal length only\n",
    "x_min, x_max = x[:, 0].min() - 1, x[:, 0].max() + 1\n",
    "\n",
    "# Extracting min and max value from all rows of sepal width only\n",
    "y_min, y_max = x[:, 1].min() - 1, x[:, 1].max() + 1\n",
    "\n",
    "# calculate step-index value for numpy.arrange()\n",
    "h = (x_max / x_min)/10\n",
    "\n",
    "# numpy.meshgrid(): builds 2-D grids from 1-D array\n",
    "xx, yy = np.meshgrid(np.arange(x_min, x_max, h), np.arange(y_min, y_max, h))\n",
    "\n",
    "# numpy.c_ : concatenates arrays column by column\n",
    "# numpy.r_ : concatenates arrays row by row\n",
    "# numpy.ravel() function returns contiguous flattened array\n",
    "\n",
    "z = svc1.predict(np.c_[xx.ravel(), yy.ravel()])\n",
    "# converting z into 2-D matrix\n",
    "z = z.reshape(xx.shape)\n",
    "\n",
    "# plt.contourf() creates a filled contour plot with following arguments:\n",
    "# 1. cmap argument: Specifies range of colormaps avaliable\n",
    "# 2. alpha: Specifies color transparency in range 0 to 1\n",
    "\n",
    "plt.contourf(xx, yy, z, cmap = plt.cm.Paired, alpha = 0.5)\n",
    "\n",
    "plt.scatter(x[:, 0], x[:, 1], c=y, cmap = plt.cm.Paired)\n",
    "plt.xlabel('Age')\n",
    "plt.ylabel('Estimate Salary')\n",
    "plt.xlim(xx.min(), xx.max())\n",
    "plt.ylim(yy.min(), yy.max())\n",
    "plt.title('SVC with Linear Kernel')\n",
    "plt.show()"
   ]
  },
  {
   "cell_type": "code",
   "execution_count": 9,
   "id": "6ffd89da",
   "metadata": {},
   "outputs": [
    {
     "data": {
      "image/png": "[encoded data removed]",
      "text/plain": [
       "<Figure size 640x480 with 1 Axes>"
      ]
     },
     "metadata": {},
     "output_type": "display_data"
    }
   ],
   "source": [
    "# Use SVM RBF kernel\n",
    "# Create a mesh to plot in matplotlib\n",
    "\n",
    "# Extracting min and max value from all rows of sepal length only\n",
    "x_min, x_max = x[:, 0].min() - 1, x[:, 0].max() + 1\n",
    "\n",
    "# Extracting min and max value from all rows of sepal width only\n",
    "y_min, y_max = x[:, 1].min() - 1, x[:, 1].max() + 1\n",
    "\n",
    "# calculate step-index value for numpy.arrange()\n",
    "h = (x_max / x_min)/10\n",
    "\n",
    "# numpy.meshgrid(): builds 2-D grids from 1-D array\n",
    "xx, yy = np.meshgrid(np.arange(x_min, x_max, h), np.arange(y_min, y_max, h))\n",
    "\n",
    "# numpy.c_ : concatenates arrays column by column\n",
    "# numpy.r_ : concatenates arrays row by row\n",
    "# numpy.ravel() function returns contiguous flattened array\n",
    "\n",
    "z = svc2.predict(np.c_[xx.ravel(), yy.ravel()])\n",
    "# converting z into 2-D matrix\n",
    "z = z.reshape(xx.shape)\n",
    "\n",
    "# plt.contourf() creates a filled contour plot with following arguments:\n",
    "# 1. cmap argument: Specifies range of colormaps avaliable\n",
    "# 2. alpha: Specifies color transparency in range 0 to 1\n",
    "\n",
    "plt.contourf(xx, yy, z, cmap = plt.cm.Paired, alpha = 0.8)\n",
    "\n",
    "plt.scatter(x[:, 0], x[:, 1], c=y, cmap = plt.cm.Paired)\n",
    "plt.xlabel('Age')\n",
    "plt.ylabel('Estimate Salary')\n",
    "plt.xlim(xx.min(), xx.max())\n",
    "plt.ylim(yy.min(), yy.max())\n",
    "plt.title('SVC with RBF Kernel')\n",
    "plt.show()"
   ]
  },
  {
   "cell_type": "code",
   "execution_count": 10,
   "id": "8d354e45",
   "metadata": {},
   "outputs": [
    {
     "data": {
      "image/png": "[encoded data removed]",
      "text/plain": [
       "<Figure size 640x480 with 1 Axes>"
      ]
     },
     "metadata": {},
     "output_type": "display_data"
    }
   ],
   "source": [
    "# Use SVM poly kernel\n",
    "# Create a mesh to plot in matplotlib\n",
    "\n",
    "# Extracting min and max value from all rows of sepal length only\n",
    "x_min, x_max = x[:, 0].min() - 1, x[:, 0].max() + 1\n",
    "\n",
    "# Extracting min and max value from all rows of sepal width only\n",
    "y_min, y_max = x[:, 1].min() - 1, x[:, 1].max() + 1\n",
    "\n",
    "# calculate step-index value for numpy.arrange()\n",
    "h = (x_max / x_min)/10\n",
    "\n",
    "# numpy.meshgrid(): builds 2-D grids from 1-D array\n",
    "xx, yy = np.meshgrid(np.arange(x_min, x_max, h), np.arange(y_min, y_max, h))\n",
    "\n",
    "# numpy.c_ : concatenates arrays column by column\n",
    "# numpy.r_ : concatenates arrays row by row\n",
    "# numpy.ravel() function returns contiguous flattened array\n",
    "\n",
    "z = svc3.predict(np.c_[xx.ravel(), yy.ravel()])\n",
    "# converting z into 2-D matrix\n",
    "z = z.reshape(xx.shape)\n",
    "\n",
    "# plt.contourf() creates a filled contour plot with following arguments:\n",
    "# 1. cmap argument: Specifies range of colormaps avaliable\n",
    "# 2. alpha: Specifies color transparency in range 0 to 1\n",
    "\n",
    "plt.contourf(xx, yy, z, cmap = plt.cm.Paired, alpha = 0.4)\n",
    "\n",
    "plt.scatter(x[:, 0], x[:, 1], c=y, cmap = plt.cm.Paired)\n",
    "plt.xlabel('Age')\n",
    "plt.ylabel('Estimate Salary')\n",
    "plt.xlim(xx.min(), xx.max())\n",
    "plt.ylim(yy.min(), yy.max())\n",
    "plt.title('SVC with Poly Kernel')\n",
    "plt.show()"
   ]
  },
  {
   "cell_type": "code",
   "execution_count": 11,
   "id": "7f478106",
   "metadata": {},
   "outputs": [],
   "source": [
    "# Summary of the parameter\n",
    "# 1. The kernel parameter can be tuned to take 'linear', 'poly', 'rbf', etc.\n",
    "# 2. The gamma value can be tuned by setting the \"Gamma\" Parameter.\n",
    "# 3. The C value in Python is tuned by the \"Cost\" parameter in R."
   ]
  },
  {
   "cell_type": "code",
   "execution_count": 12,
   "id": "40fa9a83",
   "metadata": {},
   "outputs": [],
   "source": [
    "#..............................Training SVM Model.............................."
   ]
  },
  {
   "cell_type": "code",
   "execution_count": 13,
   "id": "6e82fc2a",
   "metadata": {},
   "outputs": [],
   "source": [
    "#..............................Using Linear Kernel.............................."
   ]
  },
  {
   "cell_type": "code",
   "execution_count": 14,
   "id": "33fad64b",
   "metadata": {},
   "outputs": [],
   "source": [
    "# Spliting the dataset\n",
    "from sklearn.model_selection import train_test_split\n",
    "x_train, x_test, y_train, y_test = train_test_split(x, y, test_size = 0.25, random_state = 1)"
   ]
  },
  {
   "cell_type": "code",
   "execution_count": 15,
   "id": "f405de2e",
   "metadata": {},
   "outputs": [
    {
     "data": {
      "text/plain": [
       "SVC(C=1, gamma=0.1, kernel='linear', random_state=1)"
      ]
     },
     "execution_count": 15,
     "metadata": {},
     "output_type": "execute_result"
    }
   ],
   "source": [
    "svc1.fit(x_train, y_train)"
   ]
  },
  {
   "cell_type": "code",
   "execution_count": 16,
   "id": "a8177baf",
   "metadata": {},
   "outputs": [
    {
     "data": {
      "text/plain": [
       "array([0, 0, 0, 0, 0, 0, 0, 0, 0, 1, 1, 0, 0, 0, 0, 0, 1, 0, 0, 0, 0, 0,\n",
       "       0, 0, 0, 0, 0, 0, 0, 0, 0, 0, 0, 0, 0, 0, 0, 0, 0, 0, 0, 0, 0, 0,\n",
       "       0, 0, 1, 0, 0, 0], dtype=int64)"
      ]
     },
     "execution_count": 16,
     "metadata": {},
     "output_type": "execute_result"
    }
   ],
   "source": [
    "# Predicting the test reult\n",
    "y_pred = svc1.predict(x_test)\n",
    "y_pred"
   ]
  },
  {
   "cell_type": "code",
   "execution_count": 17,
   "id": "04be07dd",
   "metadata": {},
   "outputs": [
    {
     "data": {
      "text/plain": [
       "array([[40,  2],\n",
       "       [ 6,  2]], dtype=int64)"
      ]
     },
     "execution_count": 17,
     "metadata": {},
     "output_type": "execute_result"
    }
   ],
   "source": [
    "# Creating the Confusion matrics\n",
    "from sklearn.metrics import confusion_matrix\n",
    "cm = confusion_matrix(y_test, y_pred)\n",
    "cm"
   ]
  },
  {
   "cell_type": "code",
   "execution_count": 18,
   "id": "292e90c4",
   "metadata": {},
   "outputs": [
    {
     "name": "stdout",
     "output_type": "stream",
     "text": [
      "              precision    recall  f1-score   support\n",
      "\n",
      "           0       0.87      0.95      0.91        42\n",
      "           1       0.50      0.25      0.33         8\n",
      "\n",
      "    accuracy                           0.84        50\n",
      "   macro avg       0.68      0.60      0.62        50\n",
      "weighted avg       0.81      0.84      0.82        50\n",
      "\n"
     ]
    }
   ],
   "source": [
    "from sklearn.metrics import classification_report\n",
    "print(classification_report(y_test, y_pred))"
   ]
  },
  {
   "cell_type": "code",
   "execution_count": 19,
   "id": "a6d6a730",
   "metadata": {},
   "outputs": [],
   "source": [
    "#..............................Using RBF Kernel.............................."
   ]
  },
  {
   "cell_type": "code",
   "execution_count": 20,
   "id": "2ad7cffc",
   "metadata": {
    "scrolled": true
   },
   "outputs": [
    {
     "data": {
      "text/plain": [
       "SVC(C=1, gamma=0.5)"
      ]
     },
     "execution_count": 20,
     "metadata": {},
     "output_type": "execute_result"
    }
   ],
   "source": [
    "svc2.fit(x_train, y_train)"
   ]
  },
  {
   "cell_type": "code",
   "execution_count": 21,
   "id": "7a9489ef",
   "metadata": {},
   "outputs": [
    {
     "data": {
      "text/plain": [
       "array([0, 0, 0, 0, 0, 0, 0, 0, 0, 0, 0, 0, 0, 0, 0, 0, 0, 0, 0, 1, 0, 0,\n",
       "       0, 0, 0, 0, 0, 0, 0, 0, 0, 0, 0, 0, 0, 0, 0, 0, 0, 0, 0, 0, 0, 0,\n",
       "       0, 0, 0, 0, 0, 0], dtype=int64)"
      ]
     },
     "execution_count": 21,
     "metadata": {},
     "output_type": "execute_result"
    }
   ],
   "source": [
    "# Predicting the test reult\n",
    "y_pred2 = svc2.predict(x_test)\n",
    "y_pred2"
   ]
  },
  {
   "cell_type": "code",
   "execution_count": 22,
   "id": "76ccfc69",
   "metadata": {},
   "outputs": [
    {
     "data": {
      "text/plain": [
       "array([[41,  1],\n",
       "       [ 8,  0]], dtype=int64)"
      ]
     },
     "execution_count": 22,
     "metadata": {},
     "output_type": "execute_result"
    }
   ],
   "source": [
    "# Creating the Confusion matrics\n",
    "from sklearn.metrics import confusion_matrix\n",
    "cm = confusion_matrix(y_test, y_pred2)\n",
    "cm"
   ]
  },
  {
   "cell_type": "code",
   "execution_count": 23,
   "id": "20f1a1ed",
   "metadata": {
    "scrolled": false
   },
   "outputs": [
    {
     "name": "stdout",
     "output_type": "stream",
     "text": [
      "              precision    recall  f1-score   support\n",
      "\n",
      "           0       0.84      0.98      0.90        42\n",
      "           1       0.00      0.00      0.00         8\n",
      "\n",
      "    accuracy                           0.82        50\n",
      "   macro avg       0.42      0.49      0.45        50\n",
      "weighted avg       0.70      0.82      0.76        50\n",
      "\n"
     ]
    }
   ],
   "source": [
    "from sklearn.metrics import classification_report\n",
    "print(classification_report(y_test, y_pred2))"
   ]
  },
  {
   "cell_type": "code",
   "execution_count": 24,
   "id": "7a25c6fd",
   "metadata": {},
   "outputs": [],
   "source": [
    "#..............................Using Poly Kernel.............................."
   ]
  },
  {
   "cell_type": "code",
   "execution_count": 25,
   "id": "2c21b8aa",
   "metadata": {
    "scrolled": true
   },
   "outputs": [
    {
     "data": {
      "text/plain": [
       "SVC(C=1, degree=5, kernel='poly')"
      ]
     },
     "execution_count": 25,
     "metadata": {},
     "output_type": "execute_result"
    }
   ],
   "source": [
    "svc3.fit(x_train, y_train)"
   ]
  },
  {
   "cell_type": "code",
   "execution_count": 26,
   "id": "738635ce",
   "metadata": {},
   "outputs": [
    {
     "data": {
      "text/plain": [
       "array([0, 0, 0, 0, 0, 0, 0, 0, 0, 1, 1, 0, 0, 0, 0, 0, 1, 0, 0, 1, 0, 0,\n",
       "       0, 0, 1, 0, 0, 0, 0, 0, 0, 0, 0, 0, 0, 1, 0, 1, 0, 1, 0, 0, 0, 0,\n",
       "       0, 0, 0, 0, 0, 0], dtype=int64)"
      ]
     },
     "execution_count": 26,
     "metadata": {},
     "output_type": "execute_result"
    }
   ],
   "source": [
    "# Predicting the test reult\n",
    "y_pred3 = svc3.predict(x_test)\n",
    "y_pred3"
   ]
  },
  {
   "cell_type": "code",
   "execution_count": 27,
   "id": "1e1616b5",
   "metadata": {},
   "outputs": [
    {
     "data": {
      "text/plain": [
       "array([[38,  4],\n",
       "       [ 4,  4]], dtype=int64)"
      ]
     },
     "execution_count": 27,
     "metadata": {},
     "output_type": "execute_result"
    }
   ],
   "source": [
    "# Creating the Confusion matrics\n",
    "from sklearn.metrics import confusion_matrix\n",
    "cm = confusion_matrix(y_test, y_pred3)\n",
    "cm"
   ]
  },
  {
   "cell_type": "code",
   "execution_count": 28,
   "id": "6a7276b3",
   "metadata": {
    "scrolled": true
   },
   "outputs": [
    {
     "name": "stdout",
     "output_type": "stream",
     "text": [
      "              precision    recall  f1-score   support\n",
      "\n",
      "           0       0.90      0.90      0.90        42\n",
      "           1       0.50      0.50      0.50         8\n",
      "\n",
      "    accuracy                           0.84        50\n",
      "   macro avg       0.70      0.70      0.70        50\n",
      "weighted avg       0.84      0.84      0.84        50\n",
      "\n"
     ]
    }
   ],
   "source": [
    "from sklearn.metrics import classification_report\n",
    "print(classification_report(y_test, y_pred3))"
   ]
  },
  {
   "cell_type": "markdown",
   "id": "83e999a1",
   "metadata": {},
   "source": [
    "### KNN"
   ]
  },
  {
   "cell_type": "code",
   "execution_count": 29,
   "id": "865a44f5",
   "metadata": {},
   "outputs": [],
   "source": [
    "import numpy as np  #importing the libraries\n",
    "import pandas as pd\n",
    "from matplotlib import pyplot\n",
    "import matplotlib.pyplot as plt\n",
    "from sklearn import preprocessing"
   ]
  },
  {
   "cell_type": "code",
   "execution_count": 30,
   "id": "17f4fd9f",
   "metadata": {},
   "outputs": [
    {
     "data": {
      "text/html": [
       "<div>\n",
       "<style scoped>\n",
       "    .dataframe tbody tr th:only-of-type {\n",
       "        vertical-align: middle;\n",
       "    }\n",
       "\n",
       "    .dataframe tbody tr th {\n",
       "        vertical-align: top;\n",
       "    }\n",
       "\n",
       "    .dataframe thead th {\n",
       "        text-align: right;\n",
       "    }\n",
       "</style>\n",
       "<table border=\"1\" class=\"dataframe\">\n",
       "  <thead>\n",
       "    <tr style=\"text-align: right;\">\n",
       "      <th></th>\n",
       "      <th>Age</th>\n",
       "      <th>EstimatedSalary</th>\n",
       "      <th>Purchased</th>\n",
       "    </tr>\n",
       "  </thead>\n",
       "  <tbody>\n",
       "    <tr>\n",
       "      <th>0</th>\n",
       "      <td>19</td>\n",
       "      <td>19000</td>\n",
       "      <td>0</td>\n",
       "    </tr>\n",
       "    <tr>\n",
       "      <th>1</th>\n",
       "      <td>35</td>\n",
       "      <td>20000</td>\n",
       "      <td>0</td>\n",
       "    </tr>\n",
       "    <tr>\n",
       "      <th>2</th>\n",
       "      <td>26</td>\n",
       "      <td>43000</td>\n",
       "      <td>0</td>\n",
       "    </tr>\n",
       "    <tr>\n",
       "      <th>3</th>\n",
       "      <td>27</td>\n",
       "      <td>57000</td>\n",
       "      <td>0</td>\n",
       "    </tr>\n",
       "    <tr>\n",
       "      <th>4</th>\n",
       "      <td>19</td>\n",
       "      <td>76000</td>\n",
       "      <td>0</td>\n",
       "    </tr>\n",
       "    <tr>\n",
       "      <th>...</th>\n",
       "      <td>...</td>\n",
       "      <td>...</td>\n",
       "      <td>...</td>\n",
       "    </tr>\n",
       "    <tr>\n",
       "      <th>395</th>\n",
       "      <td>46</td>\n",
       "      <td>41000</td>\n",
       "      <td>1</td>\n",
       "    </tr>\n",
       "    <tr>\n",
       "      <th>396</th>\n",
       "      <td>51</td>\n",
       "      <td>23000</td>\n",
       "      <td>1</td>\n",
       "    </tr>\n",
       "    <tr>\n",
       "      <th>397</th>\n",
       "      <td>50</td>\n",
       "      <td>20000</td>\n",
       "      <td>1</td>\n",
       "    </tr>\n",
       "    <tr>\n",
       "      <th>398</th>\n",
       "      <td>36</td>\n",
       "      <td>33000</td>\n",
       "      <td>0</td>\n",
       "    </tr>\n",
       "    <tr>\n",
       "      <th>399</th>\n",
       "      <td>49</td>\n",
       "      <td>36000</td>\n",
       "      <td>1</td>\n",
       "    </tr>\n",
       "  </tbody>\n",
       "</table>\n",
       "<p>400 rows × 3 columns</p>\n",
       "</div>"
      ],
      "text/plain": [
       "     Age  EstimatedSalary  Purchased\n",
       "0     19            19000          0\n",
       "1     35            20000          0\n",
       "2     26            43000          0\n",
       "3     27            57000          0\n",
       "4     19            76000          0\n",
       "..   ...              ...        ...\n",
       "395   46            41000          1\n",
       "396   51            23000          1\n",
       "397   50            20000          1\n",
       "398   36            33000          0\n",
       "399   49            36000          1\n",
       "\n",
       "[400 rows x 3 columns]"
      ]
     },
     "execution_count": 30,
     "metadata": {},
     "output_type": "execute_result"
    }
   ],
   "source": [
    "df"
   ]
  },
  {
   "cell_type": "code",
   "execution_count": 31,
   "id": "2cf759b4",
   "metadata": {},
   "outputs": [],
   "source": [
    "x = df.iloc[:200,:-1].values\n",
    "y = df.iloc[:200,-1].values"
   ]
  },
  {
   "cell_type": "code",
   "execution_count": 32,
   "id": "48faf223",
   "metadata": {},
   "outputs": [
    {
     "data": {
      "text/plain": [
       "array([[-1.52370992, -1.34479807],\n",
       "       [ 0.62804284, -1.31234638],\n",
       "       [-0.58231809, -0.56595749],\n",
       "       [-0.44783354, -0.11163382],\n",
       "       [-1.52370992,  0.50494831],\n",
       "       [-0.44783354, -0.07918213],\n",
       "       [-0.44783354,  0.76456184],\n",
       "       [ 0.22458919,  2.90637344],\n",
       "       [-0.71680264, -0.8904744 ],\n",
       "       [ 0.62804284,  0.14797971]])"
      ]
     },
     "execution_count": 32,
     "metadata": {},
     "output_type": "execute_result"
    }
   ],
   "source": [
    "x = preprocessing.StandardScaler().fit(x).transform(x.astype(float))  #scaling, fitting and transforming\n",
    "# in this step we are using anonymous objects. linking objects without makig them refer is called anonymous objects\n",
    "x[0:10]"
   ]
  },
  {
   "cell_type": "code",
   "execution_count": 33,
   "id": "900ff823",
   "metadata": {},
   "outputs": [],
   "source": [
    "from sklearn.model_selection import train_test_split  # Splitting the data into training and test set\n",
    "xtrain, xtest, ytrain, ytest = train_test_split(x, y, test_size = 0.25, random_state = 0)"
   ]
  },
  {
   "cell_type": "code",
   "execution_count": 34,
   "id": "de56a0bf",
   "metadata": {},
   "outputs": [],
   "source": [
    "from sklearn.neighbors import KNeighborsClassifier  # importing the KNN Classifier\n",
    "from sklearn import metrics\n",
    "k = 4\n",
    "knnClassifier = KNeighborsClassifier(n_neighbors = k, metric = \"minkowski\", p = 2).fit(xtrain, ytrain)"
   ]
  },
  {
   "cell_type": "code",
   "execution_count": 35,
   "id": "50470ea7",
   "metadata": {},
   "outputs": [
    {
     "name": "stdout",
     "output_type": "stream",
     "text": [
      "Accuracy of model at K = 4 is : 0.92\n"
     ]
    },
    {
     "name": "stderr",
     "output_type": "stream",
     "text": [
      "C:\\Users\\ANIKET KUMAR\\anaconda3\\lib\\site-packages\\sklearn\\neighbors\\_classification.py:228: FutureWarning: Unlike other reduction functions (e.g. `skew`, `kurtosis`), the default behavior of `mode` typically preserves the axis it acts along. In SciPy 1.11.0, this behavior will change: the default value of `keepdims` will become False, the `axis` over which the statistic is taken will be eliminated, and the value None will no longer be accepted. Set `keepdims` to True or False to avoid this warning.\n",
      "  mode, _ = stats.mode(_y[neigh_ind, k], axis=1)\n"
     ]
    }
   ],
   "source": [
    "predy = knnClassifier.predict(xtest)\n",
    "print(\"Accuracy of model at K = 4 is :\", metrics.accuracy_score(ytest, predy))"
   ]
  },
  {
   "cell_type": "code",
   "execution_count": 36,
   "id": "616f4052",
   "metadata": {},
   "outputs": [
    {
     "name": "stdout",
     "output_type": "stream",
     "text": [
      "Accuracy of model at K = 5 is : 0.92\n"
     ]
    },
    {
     "name": "stderr",
     "output_type": "stream",
     "text": [
      "C:\\Users\\ANIKET KUMAR\\anaconda3\\lib\\site-packages\\sklearn\\neighbors\\_classification.py:228: FutureWarning: Unlike other reduction functions (e.g. `skew`, `kurtosis`), the default behavior of `mode` typically preserves the axis it acts along. In SciPy 1.11.0, this behavior will change: the default value of `keepdims` will become False, the `axis` over which the statistic is taken will be eliminated, and the value None will no longer be accepted. Set `keepdims` to True or False to avoid this warning.\n",
      "  mode, _ = stats.mode(_y[neigh_ind, k], axis=1)\n"
     ]
    }
   ],
   "source": [
    "k = 5  #checking the accuracy of model at K = 5\n",
    "knnClassifier = KNeighborsClassifier(n_neighbors = k, metric = \"minkowski\", p = 2).fit(xtrain, ytrain)\n",
    "predy = knnClassifier.predict(xtest)\n",
    "print(\"Accuracy of model at K = 5 is :\", metrics.accuracy_score(ytest, predy))"
   ]
  },
  {
   "cell_type": "markdown",
   "id": "f4387b68",
   "metadata": {},
   "source": [
    "### Logistic Regression"
   ]
  },
  {
   "cell_type": "code",
   "execution_count": 37,
   "id": "7e927bae",
   "metadata": {},
   "outputs": [
    {
     "data": {
      "text/plain": [
       "LogisticRegression(random_state=2)"
      ]
     },
     "execution_count": 37,
     "metadata": {},
     "output_type": "execute_result"
    }
   ],
   "source": [
    "from sklearn.linear_model import LogisticRegression # Applying regression to training data.\n",
    "classifier = LogisticRegression(random_state = 2)\n",
    "classifier.fit(xtrain, ytrain)"
   ]
  },
  {
   "cell_type": "code",
   "execution_count": 38,
   "id": "e5117a76",
   "metadata": {},
   "outputs": [],
   "source": [
    "y_pred = classifier.predict(xtest)"
   ]
  },
  {
   "cell_type": "code",
   "execution_count": 39,
   "id": "bb0b1bec",
   "metadata": {},
   "outputs": [
    {
     "name": "stdout",
     "output_type": "stream",
     "text": [
      "Confusion Matrix : \n",
      " [[39  0]\n",
      " [11  0]]\n"
     ]
    }
   ],
   "source": [
    "# Confusion Matrix\n",
    "from sklearn.metrics import confusion_matrix\n",
    "cm = confusion_matrix(ytest, y_pred)\n",
    "print(\"Confusion Matrix : \\n\" , cm)"
   ]
  },
  {
   "cell_type": "code",
   "execution_count": 40,
   "id": "09abf891",
   "metadata": {},
   "outputs": [
    {
     "name": "stdout",
     "output_type": "stream",
     "text": [
      "Accuracy:  0.78\n",
      "Precision:  0.0\n",
      "Recall:  0.0\n"
     ]
    },
    {
     "name": "stderr",
     "output_type": "stream",
     "text": [
      "C:\\Users\\ANIKET KUMAR\\anaconda3\\lib\\site-packages\\sklearn\\metrics\\_classification.py:1318: UndefinedMetricWarning: Precision is ill-defined and being set to 0.0 due to no predicted samples. Use `zero_division` parameter to control this behavior.\n",
      "  _warn_prf(average, modifier, msg_start, len(result))\n"
     ]
    }
   ],
   "source": [
    "import sklearn.metrics as metrics  # Finding accuracy precision and recall.\n",
    "print ('Accuracy: ', metrics.accuracy_score(ytest,y_pred))\n",
    "print ('Precision: ', metrics.precision_score(ytest,y_pred))\n",
    "print ('Recall: ', metrics.recall_score(ytest,y_pred))"
   ]
  },
  {
   "cell_type": "code",
   "execution_count": 41,
   "id": "cef0388a",
   "metadata": {
    "scrolled": false
   },
   "outputs": [
    {
     "name": "stderr",
     "output_type": "stream",
     "text": [
      "C:\\Users\\ANIKET KUMAR\\anaconda3\\lib\\site-packages\\sklearn\\metrics\\_classification.py:1318: UndefinedMetricWarning: Precision and F-score are ill-defined and being set to 0.0 in labels with no predicted samples. Use `zero_division` parameter to control this behavior.\n",
      "  _warn_prf(average, modifier, msg_start, len(result))\n"
     ]
    },
    {
     "name": "stdout",
     "output_type": "stream",
     "text": [
      "              precision    recall  f1-score   support\n",
      "\n",
      "           0       0.78      1.00      0.88        39\n",
      "           1       0.00      0.00      0.00        11\n",
      "\n",
      "    accuracy                           0.78        50\n",
      "   macro avg       0.39      0.50      0.44        50\n",
      "weighted avg       0.61      0.78      0.68        50\n",
      "\n"
     ]
    },
    {
     "name": "stderr",
     "output_type": "stream",
     "text": [
      "C:\\Users\\ANIKET KUMAR\\anaconda3\\lib\\site-packages\\sklearn\\metrics\\_classification.py:1318: UndefinedMetricWarning: Precision and F-score are ill-defined and being set to 0.0 in labels with no predicted samples. Use `zero_division` parameter to control this behavior.\n",
      "  _warn_prf(average, modifier, msg_start, len(result))\n",
      "C:\\Users\\ANIKET KUMAR\\anaconda3\\lib\\site-packages\\sklearn\\metrics\\_classification.py:1318: UndefinedMetricWarning: Precision and F-score are ill-defined and being set to 0.0 in labels with no predicted samples. Use `zero_division` parameter to control this behavior.\n",
      "  _warn_prf(average, modifier, msg_start, len(result))\n"
     ]
    }
   ],
   "source": [
    "from sklearn.metrics import classification_report\n",
    "print(classification_report(ytest,y_pred))"
   ]
  },
  {
   "cell_type": "markdown",
   "id": "743557ce",
   "metadata": {},
   "source": [
    "## Report"
   ]
  },
  {
   "cell_type": "code",
   "execution_count": 43,
   "id": "928c8b76",
   "metadata": {},
   "outputs": [
    {
     "name": "stdout",
     "output_type": "stream",
     "text": [
      "Accuracy of SVC with Linear Kernel is : 0.84\n",
      "Accuracy of SVC with RBF Kernel is : 0.82\n",
      "Accuracy of SVC with Poly Kernel is : 0.84\n",
      "Accuracy of KNN model at K = 5 is : 0.92\n",
      "Accuracy of Linear Regression:  0.78\n"
     ]
    }
   ],
   "source": [
    "print(\"Accuracy of SVC with Linear Kernel is :\", metrics.accuracy_score(y_test, y_pred))\n",
    "print(\"Accuracy of SVC with RBF Kernel is :\", metrics.accuracy_score(y_test, y_pred2))\n",
    "print(\"Accuracy of SVC with Poly Kernel is :\", metrics.accuracy_score(y_test, y_pred3))\n",
    "print(\"Accuracy of KNN model at K = 5 is :\", metrics.accuracy_score(ytest, predy))\n",
    "print('Accuracy of Linear Regression: ', metrics.accuracy_score(ytest,y_pred))"
   ]
  }
 ],
 "metadata": {
  "kernelspec": {
   "display_name": "Python 3 (ipykernel)",
   "language": "python",
   "name": "python3"
  },
  "language_info": {
   "codemirror_mode": {
    "name": "ipython",
    "version": 3
   },
   "file_extension": ".py",
   "mimetype": "text/x-python",
   "name": "python",
   "nbconvert_exporter": "python",
   "pygments_lexer": "ipython3",
   "version": "3.9.13"
  }
 },
 "nbformat": 4,
 "nbformat_minor": 5
}
